{
 "cells": [
  {
   "cell_type": "code",
   "execution_count": 1,
   "id": "395dbb17",
   "metadata": {},
   "outputs": [],
   "source": [
    "## import packages\n",
    "import pandas as pd\n",
    "import dask.dataframe as dd\n",
    "from functools import reduce\n",
    "import matplotlib.pyplot as plt"
   ]
  },
  {
   "cell_type": "code",
   "execution_count": 2,
   "id": "18330385",
   "metadata": {},
   "outputs": [],
   "source": [
    "store_ids = [1, 3]"
   ]
  },
  {
   "cell_type": "code",
   "execution_count": 3,
   "id": "dc0b59e7",
   "metadata": {},
   "outputs": [],
   "source": [
    "def filter_data(chunk):\n",
    "    chunk = chunk.replace(r'[^\\sa-zA-Z0-9]',' ',regex=True)\n",
    "    #chunk = chunk.replace(r'[ !\"\\$%&\\'()*+,\\-.\\/:;=#@?\\[\\\\\\]^_`{|}~]*','',regex=True)\n",
    "    chunk = chunk.loc[(chunk['price'] >= 0) &\n",
    "                      (chunk['store_id'].isin(store_ids))\n",
    "                      , ['product_name', 'store_id', 'units']]\n",
    "    return chunk.groupby([\"store_id\", 'product_name']).agg(sale_count=('units', 'sum'))"
   ]
  },
  {
   "cell_type": "code",
   "execution_count": 4,
   "id": "0df91e8d",
   "metadata": {},
   "outputs": [],
   "source": [
    "def add_chunk(previous_chunk, new_chunk):\n",
    "    return pd.concat([previous_chunk, new_chunk], ignore_index=True)"
   ]
  },
  {
   "cell_type": "markdown",
   "id": "67c6fc36",
   "metadata": {},
   "source": [
    "# The transactions belonging to two stores should fit in the memory. The transaction contain refunds (unit <0) that must be filtered out. Calculate the relative sales."
   ]
  },
  {
   "cell_type": "code",
   "execution_count": 5,
   "id": "0a1a813b",
   "metadata": {},
   "outputs": [
    {
     "name": "stdout",
     "output_type": "stream",
     "text": [
      "   store_id   product_name  sale_count  relative_sales\n",
      "0         1     bread 700g          46        0.154882\n",
      "1         1   coffee large          95        0.319865\n",
      "2         1  doughnut cold          53        0.178451\n",
      "3         1        milk 2L          54        0.181818\n",
      "4         1   snickers 37g          49        0.164983\n",
      "5         3     bread 700g          65        0.188953\n",
      "6         3   coffee large          57        0.165698\n",
      "7         3  doughnut cold         125        0.363372\n",
      "8         3        milk 2L          51        0.148256\n",
      "9         3   snickers 37g          46        0.133721\n"
     ]
    }
   ],
   "source": [
    "# MapReduce structure:\n",
    "transaction_chunks = pd.read_csv('Data/test_data.tsv', sep='\\t', chunksize=1000)\n",
    "filtered_chunks = map(filter_data, transaction_chunks)\n",
    "transaction_df = reduce(add_chunk, filtered_chunks)\n",
    "\n",
    "transaction_df['relative_sales'] = transaction_df['sale_count']/\\\n",
    "                                    transaction_df.groupby('store_id')['sale_count']\\\n",
    "                                        .transform('sum')\n",
    "transaction_df.reset_index(inplace=True)\n",
    "print(transaction_df)"
   ]
  },
  {
   "cell_type": "code",
   "execution_count": 6,
   "id": "cdda4fde",
   "metadata": {},
   "outputs": [],
   "source": [
    "#transaction_df.info()"
   ]
  },
  {
   "cell_type": "code",
   "execution_count": 7,
   "id": "ebac8001",
   "metadata": {},
   "outputs": [
    {
     "data": {
      "image/png": "[encoded data removed]",
      "text/plain": [
       "<Figure size 360x216 with 1 Axes>"
      ]
     },
     "metadata": {
      "needs_background": "light"
     },
     "output_type": "display_data"
    }
   ],
   "source": [
    "#Visualization: Bar plot\n",
    "pivot_df = transaction_df.pivot_table(index='product_name', columns='store_id',\n",
    "                                 values='relative_sales')\n",
    "# plot\n",
    "pivot_df.plot(kind='bar', figsize=(5, 3), rot=0)\n",
    "plt.xticks(rotation=45)\n",
    "#plt.tight_layout()\n",
    "plt.show()"
   ]
  },
  {
   "cell_type": "code",
   "execution_count": null,
   "id": "cd943067",
   "metadata": {},
   "outputs": [],
   "source": []
  }
 ],
 "metadata": {
  "kernelspec": {
   "display_name": "Python 3",
   "language": "python",
   "name": "python3"
  },
  "language_info": {
   "codemirror_mode": {
    "name": "ipython",
    "version": 3
   },
   "file_extension": ".py",
   "mimetype": "text/x-python",
   "name": "python",
   "nbconvert_exporter": "python",
   "pygments_lexer": "ipython3",
   "version": "3.8.8"
  }
 },
 "nbformat": 4,
 "nbformat_minor": 5
}
