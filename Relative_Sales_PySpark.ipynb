{
 "cells": [
  {
   "cell_type": "code",
   "execution_count": 1,
   "metadata": {
    "application/vnd.databricks.v1+cell": {
     "inputWidgets": {},
     "nuid": "83334ac0-337d-4974-bc93-2366b5062028",
     "showTitle": false,
     "title": ""
    }
   },
   "outputs": [],
   "source": [
    "import pyspark\n",
    "from pyspark.sql import SparkSession\n",
    "from pyspark.sql.functions import udf, regexp_replace, trim, col, lower\n",
    "from pyspark.sql.functions import sum as _sum\n",
    "from pyspark.sql import functions as F, Window\n",
    "from pyspark.sql.functions import col\n",
    "import matplotlib.pyplot as plt\n",
    "import re"
   ]
  },
  {
   "cell_type": "markdown",
   "metadata": {},
   "source": [
    "The key data type used in PySpark is the Spark dataframe.\\\n",
    "This object can be thought of as a table distributed across a cluster and has functionality that is similar to dataframes in Pandas.\\\n",
    "Creating the spark dataframe"
   ]
  },
  {
   "cell_type": "code",
   "execution_count": 2,
   "metadata": {
    "application/vnd.databricks.v1+cell": {
     "inputWidgets": {},
     "nuid": "e06df928-9c25-4c23-a657-06a296ff9d00",
     "showTitle": false,
     "title": ""
    }
   },
   "outputs": [],
   "source": [
    "spark = SparkSession.builder.appName('Practice').getOrCreate()"
   ]
  },
  {
   "cell_type": "code",
   "execution_count": 3,
   "metadata": {
    "application/vnd.databricks.v1+cell": {
     "inputWidgets": {},
     "nuid": "e6b914ee-a729-4646-9169-048506e9799b",
     "showTitle": false,
     "title": ""
    }
   },
   "outputs": [],
   "source": [
    "df_pyspark = spark.read.csv('Data/test_data.tsv', sep=r'\\t', header=True)# change file path"
   ]
  },
  {
   "cell_type": "code",
   "execution_count": 4,
   "metadata": {
    "application/vnd.databricks.v1+cell": {
     "inputWidgets": {},
     "nuid": "88a0c904-0e37-481c-922a-822839db2797",
     "showTitle": false,
     "title": ""
    }
   },
   "outputs": [
    {
     "data": {
      "text/plain": [
       "pyspark.sql.dataframe.DataFrame"
      ]
     },
     "execution_count": 4,
     "metadata": {},
     "output_type": "execute_result"
    }
   ],
   "source": [
    "### Check the schema and type\n",
    "#df_pyspark.printSchema()\n",
    "#df_pyspark.show()\n",
    "type(df_pyspark)"
   ]
  },
  {
   "cell_type": "markdown",
   "metadata": {},
   "source": [
    "#Remove All Punctuation Marks as per the requirement\n",
    "#e.g. 'coffee_large', 'coffee-large' will be coffee large"
   ]
  },
  {
   "cell_type": "code",
   "execution_count": 5,
   "metadata": {
    "application/vnd.databricks.v1+cell": {
     "inputWidgets": {},
     "nuid": "6b46b416-52ff-4059-9c9e-a8adc97473cf",
     "showTitle": false,
     "title": ""
    }
   },
   "outputs": [],
   "source": [
    "def removePunctuation(column):\n",
    "     return trim(lower(regexp_replace(column,'[^\\sa-zA-Z0-9]', ' '))).alias('stopped')"
   ]
  },
  {
   "cell_type": "code",
   "execution_count": 6,
   "metadata": {
    "application/vnd.databricks.v1+cell": {
     "inputWidgets": {},
     "nuid": "0b37f76a-5c7c-434c-b149-cd2dd420182f",
     "showTitle": false,
     "title": ""
    }
   },
   "outputs": [],
   "source": [
    "df_pyspark = df_pyspark.withColumn('product_names',removePunctuation('product_name'))"
   ]
  },
  {
   "cell_type": "code",
   "execution_count": 7,
   "metadata": {
    "application/vnd.databricks.v1+cell": {
     "inputWidgets": {},
     "nuid": "3a7878a8-0813-493e-9b28-0f79164c308d",
     "showTitle": false,
     "title": ""
    }
   },
   "outputs": [],
   "source": [
    "#df_pyspark.show()"
   ]
  },
  {
   "cell_type": "markdown",
   "metadata": {},
   "source": [
    "# The transactions belonging to two stores should fit in the memory. The transaction data contain refunds (unit < 0) that must be filtered out. Calculate relative sales"
   ]
  },
  {
   "cell_type": "code",
   "execution_count": 8,
   "metadata": {
    "application/vnd.databricks.v1+cell": {
     "inputWidgets": {},
     "nuid": "d7173d95-6ad7-4f0c-9d10-540a51b9ffa4",
     "showTitle": false,
     "title": ""
    }
   },
   "outputs": [],
   "source": [
    "df_pyspark =  df_pyspark.filter(((df_pyspark.store_id == 1) | (df_pyspark.store_id == 3)) & (df_pyspark.price >=0))\n",
    "df_pyspark = df_pyspark.select(col(\"product_names\"),col(\"store_id\"),col(\"units\"))\n",
    "df_pyspark = df_pyspark.groupBy(\"store_id\", \"product_names\").agg(_sum('units').alias('sale_count'))\n",
    "df_pyspark_test = df_pyspark.withColumn('relative_sales',\n",
    "    F.col('sale_count') / \n",
    "    F.sum('sale_count').over(Window.partitionBy('store_id'))\n",
    ")\n"
   ]
  },
  {
   "cell_type": "code",
   "execution_count": 9,
   "metadata": {
    "application/vnd.databricks.v1+cell": {
     "inputWidgets": {},
     "nuid": "79142d1d-15ff-4b6e-aa1a-17074907f60b",
     "showTitle": false,
     "title": ""
    }
   },
   "outputs": [],
   "source": [
    "#display(df_pyspark_test)"
   ]
  },
  {
   "cell_type": "code",
   "execution_count": 10,
   "metadata": {},
   "outputs": [],
   "source": [
    "#df_pyspark_test.show()"
   ]
  },
  {
   "cell_type": "markdown",
   "metadata": {},
   "source": [
    "# Visualization"
   ]
  },
  {
   "cell_type": "code",
   "execution_count": 11,
   "metadata": {},
   "outputs": [],
   "source": [
    "pdf1=df_pyspark_test.toPandas()"
   ]
  },
  {
   "cell_type": "code",
   "execution_count": 13,
   "metadata": {},
   "outputs": [
    {
     "data": {
      "image/png": "[encoded data removed]",
      "text/plain": [
       "<Figure size 360x216 with 1 Axes>"
      ]
     },
     "metadata": {
      "needs_background": "light"
     },
     "output_type": "display_data"
    }
   ],
   "source": [
    "####################################\n",
    "#TODO: plot bar here\n",
    "pivot_df = pdf1.pivot(index='product_names', columns='store_id',\n",
    "                                 values='relative_sales')\n",
    "# plot\n",
    "pivot_df.plot(kind='bar', figsize=(5, 3), rot=0)\n",
    "plt.xticks(rotation=45)\n",
    "#plt.tight_layout()\n",
    "plt.show()"
   ]
  },
  {
   "cell_type": "code",
   "execution_count": null,
   "metadata": {},
   "outputs": [],
   "source": []
  }
 ],
 "metadata": {
  "application/vnd.databricks.v1+notebook": {
   "dashboards": [],
   "language": "python",
   "notebookMetadata": {
    "pythonIndentUnit": 2
   },
   "notebookName": "Pyspark_QSIC-Copy2",
   "notebookOrigID": 3154730249266508,
   "widgets": {}
  },
  "kernelspec": {
   "display_name": "Python 3",
   "language": "python",
   "name": "python3"
  },
  "language_info": {
   "codemirror_mode": {
    "name": "ipython",
    "version": 3
   },
   "file_extension": ".py",
   "mimetype": "text/x-python",
   "name": "python",
   "nbconvert_exporter": "python",
   "pygments_lexer": "ipython3",
   "version": "3.8.8"
  }
 },
 "nbformat": 4,
 "nbformat_minor": 1
}
