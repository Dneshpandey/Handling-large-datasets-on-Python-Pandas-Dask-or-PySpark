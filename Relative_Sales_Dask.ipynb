{
 "cells": [
  {
   "cell_type": "code",
   "execution_count": 1,
   "id": "9071b25c",
   "metadata": {},
   "outputs": [],
   "source": [
    "import dask\n",
    "import dask.dataframe as dd\n",
    "from dask.distributed import Client, progress\n",
    "import matplotlib.pyplot as plt"
   ]
  },
  {
   "cell_type": "markdown",
   "id": "3e5884fa",
   "metadata": {},
   "source": [
    "# Start Dask Client for Dashboard"
   ]
  },
  {
   "cell_type": "markdown",
   "id": "730829ce",
   "metadata": {},
   "source": [
    "#Starting the Dask Client is optional. It will provide a dashboard which is useful to gain insight on the computation.\\\n",
    "The link to the dashboard will become visible when we create the client below. We recommend having it open on one side of your screen while using your notebook on the other side. This can take some effort to arrange your windows, but seeing them both at the same is very useful when learning."
   ]
  },
  {
   "cell_type": "code",
   "execution_count": 2,
   "id": "b1983561",
   "metadata": {},
   "outputs": [
    {
     "data": {
      "text/html": [
       "<table style=\"border: 2px solid white;\">\n",
       "<tr>\n",
       "<td style=\"vertical-align: top; border: 0px solid white\">\n",
       "<h3 style=\"text-align: left;\">Client</h3>\n",
       "<ul style=\"text-align: left; list-style: none; margin: 0; padding: 0;\">\n",
       "  <li><b>Scheduler: </b>tcp://127.0.0.1:58872</li>\n",
       "  <li><b>Dashboard: </b><a href='http://127.0.0.1:8787/status' target='_blank'>http://127.0.0.1:8787/status</a></li>\n",
       "</ul>\n",
       "</td>\n",
       "<td style=\"vertical-align: top; border: 0px solid white\">\n",
       "<h3 style=\"text-align: left;\">Cluster</h3>\n",
       "<ul style=\"text-align: left; list-style:none; margin: 0; padding: 0;\">\n",
       "  <li><b>Workers: </b>2</li>\n",
       "  <li><b>Cores: </b>4</li>\n",
       "  <li><b>Memory: </b>1.86 GiB</li>\n",
       "</ul>\n",
       "</td>\n",
       "</tr>\n",
       "</table>"
      ],
      "text/plain": [
       "<Client: 'tcp://127.0.0.1:58872' processes=2 threads=4, memory=1.86 GiB>"
      ]
     },
     "execution_count": 2,
     "metadata": {},
     "output_type": "execute_result"
    }
   ],
   "source": [
    "client = Client(n_workers=2, threads_per_worker=2, memory_limit='1GB')\n",
    "client"
   ]
  },
  {
   "cell_type": "markdown",
   "id": "b594443e",
   "metadata": {},
   "source": [
    "#Dask Dataframes can read and store data in many of the same formats as Pandas dataframes. In this task, we read and write tsv format."
   ]
  },
  {
   "cell_type": "code",
   "execution_count": 3,
   "id": "376f0d3e",
   "metadata": {},
   "outputs": [
    {
     "name": "stderr",
     "output_type": "stream",
     "text": [
      "/opt/anaconda3/lib/python3.8/site-packages/dask/dataframe/io/csv.py:531: ParserWarning: Falling back to the 'python' engine because the 'c' engine does not support regex separators (separators > 1 char and different from '\\s+' are interpreted as regex); you can avoid this warning by specifying engine='python'.\n",
      "  head = reader(BytesIO(b_sample), **kwargs)\n"
     ]
    },
    {
     "data": {
      "text/html": [
       "<div><strong>Dask DataFrame Structure:</strong></div>\n",
       "<div>\n",
       "<style scoped>\n",
       "    .dataframe tbody tr th:only-of-type {\n",
       "        vertical-align: middle;\n",
       "    }\n",
       "\n",
       "    .dataframe tbody tr th {\n",
       "        vertical-align: top;\n",
       "    }\n",
       "\n",
       "    .dataframe thead th {\n",
       "        text-align: right;\n",
       "    }\n",
       "</style>\n",
       "<table border=\"1\" class=\"dataframe\">\n",
       "  <thead>\n",
       "    <tr style=\"text-align: right;\">\n",
       "      <th></th>\n",
       "      <th>product_id</th>\n",
       "      <th>store_id</th>\n",
       "      <th>product_name</th>\n",
       "      <th>units</th>\n",
       "      <th>transaction_id</th>\n",
       "      <th>price</th>\n",
       "      <th>timestamp</th>\n",
       "    </tr>\n",
       "    <tr>\n",
       "      <th>npartitions=1</th>\n",
       "      <th></th>\n",
       "      <th></th>\n",
       "      <th></th>\n",
       "      <th></th>\n",
       "      <th></th>\n",
       "      <th></th>\n",
       "      <th></th>\n",
       "    </tr>\n",
       "  </thead>\n",
       "  <tbody>\n",
       "    <tr>\n",
       "      <th></th>\n",
       "      <td>int64</td>\n",
       "      <td>int64</td>\n",
       "      <td>object</td>\n",
       "      <td>int64</td>\n",
       "      <td>int64</td>\n",
       "      <td>float64</td>\n",
       "      <td>object</td>\n",
       "    </tr>\n",
       "    <tr>\n",
       "      <th></th>\n",
       "      <td>...</td>\n",
       "      <td>...</td>\n",
       "      <td>...</td>\n",
       "      <td>...</td>\n",
       "      <td>...</td>\n",
       "      <td>...</td>\n",
       "      <td>...</td>\n",
       "    </tr>\n",
       "  </tbody>\n",
       "</table>\n",
       "</div>\n",
       "<div>Dask Name: read-csv, 1 tasks</div>"
      ],
      "text/plain": [
       "Dask DataFrame Structure:\n",
       "              product_id store_id product_name  units transaction_id    price timestamp\n",
       "npartitions=1                                                                          \n",
       "                   int64    int64       object  int64          int64  float64    object\n",
       "                     ...      ...          ...    ...            ...      ...       ...\n",
       "Dask Name: read-csv, 1 tasks"
      ]
     },
     "execution_count": 3,
     "metadata": {},
     "output_type": "execute_result"
    }
   ],
   "source": [
    "df_dask = dd.read_csv('Data/test_data.tsv',sep=r'\\t')\n",
    "df_dask"
   ]
  },
  {
   "cell_type": "markdown",
   "id": "2b753412",
   "metadata": {},
   "source": [
    "#The transactions belonging to two stores should fit in the memory. The transaction contain refunds (unit <0) that must be filtered out. Calculate the relative sales."
   ]
  },
  {
   "cell_type": "code",
   "execution_count": 4,
   "id": "1a8e0ca4",
   "metadata": {},
   "outputs": [],
   "source": [
    "store_ids = [1, 3]\n",
    "df_dask= df_dask.loc[(df_dask['price'] >= 0) &\n",
    "                      (df_dask['store_id'].isin(store_ids))\n",
    "                      , ['product_name', 'store_id', 'units']]"
   ]
  },
  {
   "cell_type": "markdown",
   "id": "bd9c1e7c",
   "metadata": {},
   "source": [
    "#Remove All Punctuation Marks as per the requirement \\\n",
    "#e.g. 'coffee_large', 'coffee-large' will be coffee large"
   ]
  },
  {
   "cell_type": "code",
   "execution_count": 5,
   "id": "478414fd",
   "metadata": {},
   "outputs": [],
   "source": [
    "df_dask['product_name'] = df_dask['product_name'].str.replace(r'[^\\sa-zA-Z0-9]', ' ',regex=True)\n",
    " "
   ]
  },
  {
   "cell_type": "markdown",
   "id": "cd9299fb",
   "metadata": {},
   "source": [
    "#Calculating relative sales"
   ]
  },
  {
   "cell_type": "code",
   "execution_count": 6,
   "id": "f8720764",
   "metadata": {},
   "outputs": [],
   "source": [
    "df_dask['relative_sales'] = df_dask['units'] / df_dask['store_id'].map(df_dask.groupby('store_id')['units'].sum())\n",
    "df_dask = df_dask.groupby([\"store_id\", 'product_name']).agg({'relative_sales': 'sum'})\n",
    "df_dask = df_dask.reset_index()"
   ]
  },
  {
   "cell_type": "markdown",
   "id": "d53378d5",
   "metadata": {},
   "source": [
    "# Visualization"
   ]
  },
  {
   "cell_type": "code",
   "execution_count": 7,
   "id": "79383f01",
   "metadata": {},
   "outputs": [],
   "source": [
    "pandas_df = df_dask.compute()"
   ]
  },
  {
   "cell_type": "code",
   "execution_count": 8,
   "id": "e82c97cb",
   "metadata": {},
   "outputs": [
    {
     "data": {
      "image/png": "[encoded data removed]",
      "text/plain": [
       "<Figure size 360x216 with 1 Axes>"
      ]
     },
     "metadata": {
      "needs_background": "light"
     },
     "output_type": "display_data"
    }
   ],
   "source": [
    "#Expected output is a barplot that shows the relative sales of the different products for two stores\n",
    "\n",
    "pivot_df = pandas_df.pivot_table(index='product_name', columns='store_id',\n",
    "                                 values='relative_sales')\n",
    "# plot\n",
    "pivot_df.plot(kind='bar', figsize=(5, 3), rot=0)\n",
    "\n",
    "plt.xticks(rotation=45)\n",
    "\n",
    "plt.show()"
   ]
  },
  {
   "cell_type": "code",
   "execution_count": null,
   "id": "b0233c9d",
   "metadata": {},
   "outputs": [],
   "source": []
  }
 ],
 "metadata": {
  "kernelspec": {
   "display_name": "Python 3",
   "language": "python",
   "name": "python3"
  },
  "language_info": {
   "codemirror_mode": {
    "name": "ipython",
    "version": 3
   },
   "file_extension": ".py",
   "mimetype": "text/x-python",
   "name": "python",
   "nbconvert_exporter": "python",
   "pygments_lexer": "ipython3",
   "version": "3.8.8"
  }
 },
 "nbformat": 4,
 "nbformat_minor": 5
}
